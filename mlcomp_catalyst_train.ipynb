{
 "cells": [
  {
   "cell_type": "markdown",
   "metadata": {},
   "source": [
    "![MLComp](https://raw.githubusercontent.com/catalyst-team/catalyst-pics/master/pics/MLcomp.png)\n",
    "![Catalyst](https://raw.githubusercontent.com/catalyst-team/catalyst-pics/master/pics/catalyst_logo.png)"
   ]
  },
  {
   "cell_type": "markdown",
   "metadata": {},
   "source": [
    "### Plan:\n",
    "\n",
    "1. Basic setup and short discussion about MLComp and Catalyst libraries\n",
    "\n",
    "2. MLComp and Catalyst short tutorial\n",
    "\n",
    "3. Severstal DAG execution. Due to Kaggle kernels limit, we will not train final models here. You should train them yourself locally. (the code is the same). All you need to do is to remove extra params from ```mlcomp dag``` command\n",
    "\n",
    "Or you can download them https://www.kaggle.com/lightforever/severstalmodels\n",
    "\n",
    "4. You can find inference here https://www.kaggle.com/lightforever/severstal-mlcomp-catalyst-infer-0-90672\n",
    "\n",
    "**An ensemble of the segmentation models with a postprocessing gives 0.90672 on LB. If you add the classifier from Heng CherKeng's [thread](https://www.kaggle.com/c/severstal-steel-defect-detection/discussion/106462#latest-634450)**, you should get 0.9117 on LB**"
   ]
  },
  {
   "cell_type": "markdown",
   "metadata": {},
   "source": [
    "## Basic setup\n",
    "\n",
    "[MLComp](https://github.com/catalyst-team/mlcomp) is a distributed DAG (Directed acyclic graph) framework for machine learning with UI. It helps to train, manipulate, and visualize.\n",
    "\n",
    "Every machine learning pipeline is a Directed acyclic graph. [MLComp](https://github.com/catalyst-team/mlcomp) helps to execute it in a parallel manner, see the results via Web UI and manipulate the process easily.\n",
    "\n",
    "https://github.com/catalyst-team/mlcomp\n",
    "\n",
    "[Catalyst](https://github.com/catalyst-team/catalyst) helps to train neural networks. It helps to get good positions in the competitions.\n",
    "\n",
    "For an example, [yu4u and the others have finished at the 4th place using Catalyst](https://www.kaggle.com/c/recursion-cellular-image-classification/discussion/110337#latest-635296)\n",
    "\n",
    "https://github.com/catalyst-team/catalyst"
   ]
  },
  {
   "cell_type": "markdown",
   "metadata": {},
   "source": [
    "Install MLComp library. It already has Catalyst in the dependencies"
   ]
  },
  {
   "cell_type": "code",
   "execution_count": 1,
   "metadata": {
    "_cell_guid": "79c7e3d0-c299-4dcb-8224-4455121ee9b0",
    "_kg_hide-input": false,
    "_kg_hide-output": true,
    "_uuid": "d629ff2d2480ee46fbb7e2d37f6b5fab8052498a"
   },
   "outputs": [],
   "source": [
    "#! pip install mlcomp\n",
    "\n",
    "from mlcomp.utils.describe import describe, describe_task_names"
   ]
  },
  {
   "cell_type": "markdown",
   "metadata": {},
   "source": [
    "Start MLComp's server"
   ]
  },
  {
   "cell_type": "code",
   "execution_count": 2,
   "metadata": {},
   "outputs": [],
   "source": [
    "%%script bash --bg --out script_out\n",
    "\n",
    "! mlcomp-server start"
   ]
  },
  {
   "cell_type": "markdown",
   "metadata": {},
   "source": [
    "The sever has just started. If you run this code locally, you can open web browser and see the control panel: http://localhost:4201"
   ]
  },
  {
   "cell_type": "markdown",
   "metadata": {},
   "source": [
    "## Catalyst/MLComp short tutorial"
   ]
  },
  {
   "cell_type": "markdown",
   "metadata": {},
   "source": [
    "Catalyst has 2 API: \n",
    "\n",
    "1. python API, you are importing regular classes\n",
    "2. config API, you are declaring an execution process in a special configuration file and run catalyst-dl run --config=PATH_TO_CONFIG"
   ]
  },
  {
   "cell_type": "markdown",
   "metadata": {},
   "source": [
    "We use the second scenario. Let's have a look at our Catalyst config file"
   ]
  },
  {
   "cell_type": "code",
   "execution_count": 3,
   "metadata": {},
   "outputs": [
    {
     "name": "stdout",
     "output_type": "stream",
     "text": [
      "model_params:\r\n",
      "  model: SegmentationModelPytorch\r\n",
      "  num_classes: 4\r\n",
      "  arch: Unet\r\n",
      "  encoder: resnet34\r\n",
      "\r\n",
      "args:\r\n",
      "  expdir: \"catalyst_segment\"\r\n",
      "  logdir: \"log\"\r\n",
      "\r\n",
      "stages:\r\n",
      "\r\n",
      "  data_params:\r\n",
      "    num_workers: 2\r\n",
      "    batch_size: 36\r\n",
      "    per_gpu_scaling: True\r\n",
      "    img_folder: 'data/train_images/'\r\n",
      "    mask_folder: 'data/train_masks/'\r\n",
      "    fold_csv: 'data/masks.csv'\r\n",
      "    fold_number: 0\r\n",
      "\r\n",
      "  state_params:\r\n",
      "    main_metric: dice\r\n",
      "    minimize_metric: False\r\n",
      "\r\n",
      "  criterion_params:\r\n",
      "    criterion: BCEDiceLoss\r\n",
      "\r\n",
      "  callbacks_params:\r\n",
      "    loss:\r\n",
      "      callback: CriterionCallback\r\n",
      "    optimizer:\r\n",
      "      callback: OptimizerCallback\r\n",
      "    saver:\r\n",
      "      callback: CheckpointCallback\r\n",
      "    dice:\r\n",
      "      callback: DiceCallback\r\n",
      "\r\n",
      "  stage1:\r\n",
      "    state_params:\r\n",
      "      num_epochs: 360\r\n",
      "\r\n",
      "    optimizer_params:\r\n",
      "      optimizer: Adam\r\n",
      "      lr: 0.001\r\n",
      "      layerwise_params:\r\n",
      "        model.encoder*:\r\n",
      "          lr: 0.00001\r\n",
      "        model.decoder*:\r\n",
      "          lr: 0.001"
     ]
    }
   ],
   "source": [
    "cat catalyst_mlcomp/configs/catalyst.yml"
   ]
  },
  {
   "cell_type": "markdown",
   "metadata": {},
   "source": [
    "SegmentationModelPytorch here is a wrapper of this library: https://github.com/qubvel/segmentation_models.pytorch\n",
    "\n",
    "We are declaring a model, stages, callbacks, criterion, number of epochs, etc. in a special configuration file.\n",
    "\n",
    "Then, we could run it via catalyst-dl run --config=data/catalyst_config.yml"
   ]
  },
  {
   "cell_type": "markdown",
   "metadata": {},
   "source": [
    "But instead of if, we are declaring one additional config for [MLComp](https://github.com/catalyst-team/mlcomp).\n",
    "\n",
    "[MLComp](https://github.com/catalyst-team/mlcomp) helps to declare DAG and execute it in a parallel."
   ]
  },
  {
   "cell_type": "code",
   "execution_count": 4,
   "metadata": {},
   "outputs": [
    {
     "name": "stdout",
     "output_type": "stream",
     "text": [
      "info:\r\n",
      "  name: manjaro_jupyterlab\r\n",
      "  project: severstal\r\n",
      "  layout: segment\r\n",
      "  expdir: ../\r\n",
      "executors:\r\n",
      "  preprocess:\r\n",
      "    type: preprocess\r\n",
      "  masks:\r\n",
      "    type: masks\r\n",
      "    depends: preprocess\r\n",
      "  train:\r\n",
      "    type: catalyst\r\n",
      "    gpu: 1\r\n",
      "    args:\r\n",
      "      config: configs/catalyst.yml\r\n",
      "    depends: masks\r\n",
      "    trace: trace.pth\r\n",
      "    grid:\r\n",
      "      - - encoder: resnet34\r\n",
      "        - encoder: se_resnext50_32x4d\r\n",
      "          batch_size: 16\r\n",
      "        - model_params:\r\n",
      "            model: MobileUnet\r\n",
      "            input_size: 256\r\n",
      "            pretrained: True\r\n",
      "            num_classes: 4\r\n",
      "            layerwise_params: {}"
     ]
    }
   ],
   "source": [
    "cat catalyst_mlcomp/configs/mlcomp.yml"
   ]
  },
  {
   "cell_type": "markdown",
   "metadata": {},
   "source": [
    "You can see here:\n",
    "\n",
    "1. basic info about DAG in info section\n",
    "\n",
    "2. declaring DAG's structure in executors section."
   ]
  },
  {
   "cell_type": "markdown",
   "metadata": {},
   "source": [
    "DAG's element is known as Executor. They are here: preprocess, masks, train\n",
    "\n",
    "Each executor must be declared somewhere in your project's folder where you are running ```mlcomp dag``` command"
   ]
  },
  {
   "cell_type": "markdown",
   "metadata": {},
   "source": [
    "Preprocess is a standard group K-Fold stratification"
   ]
  },
  {
   "cell_type": "code",
   "execution_count": 6,
   "metadata": {
    "_kg_hide-output": true
   },
   "outputs": [
    {
     "name": "stdout",
     "output_type": "stream",
     "text": [
      "import pandas as pd\r\n",
      "\r\n",
      "from mlcomp.contrib.split import stratified_group_k_fold\r\n",
      "from mlcomp.worker.executors import Executor\r\n",
      "\r\n",
      "@Executor.register\r\n",
      "class Preprocess(Executor):\r\n",
      "    def work(self):\r\n",
      "        df = pd.read_csv('data/input/train.csv')\r\n",
      "        df['exists'] = df['EncodedPixels'].notnull().astype(int)\r\n",
      "\r\n",
      "        df['image_name'] = df['ImageId_ClassId'].map(\r\n",
      "            lambda x: x.split('_')[0].strip()\r\n",
      "        )\r\n",
      "        df['class_id'] = df['ImageId_ClassId'].map(\r\n",
      "            lambda x: int(x.split('_')[-1])\r\n",
      "        )\r\n",
      "        df['class_id'] = [\r\n",
      "            row.class_id if row.exists else 0 for row in df.itertuples()\r\n",
      "        ]\r\n",
      "        df['fold'] = stratified_group_k_fold(\r\n",
      "            label='class_id', group_column='image_name', df=df, n_splits=5\r\n",
      "        )\r\n",
      "        df.to_csv('data/fold.csv', index=False)\r\n",
      "\r\n",
      "\r\n",
      "if __name__ == '__main__':\r\n",
      "    Preprocess().work()"
     ]
    }
   ],
   "source": [
    "cat catalyst_mlcomp/executors/preprocess.py"
   ]
  },
  {
   "cell_type": "markdown",
   "metadata": {},
   "source": [
    "masks converts masks from csv file to regular png masks"
   ]
  },
  {
   "cell_type": "code",
   "execution_count": 7,
   "metadata": {
    "_kg_hide-output": true
   },
   "outputs": [
    {
     "name": "stdout",
     "output_type": "stream",
     "text": [
      "import os\r\n",
      "\r\n",
      "import cv2\r\n",
      "import pandas as pd\r\n",
      "from tqdm import tqdm\r\n",
      "import numpy as np\r\n",
      "\r\n",
      "from mlcomp.contrib.transform.rle import rle2mask\r\n",
      "from mlcomp.worker.executors import Executor\r\n",
      "\r\n",
      "\r\n",
      "@Executor.register\r\n",
      "class Masks(Executor):\r\n",
      "    def work(self) -> dict:\r\n",
      "        df = pd.read_csv('data/fold.csv')\r\n",
      "        os.makedirs('data/train_masks', exist_ok=True)\r\n",
      "\r\n",
      "        df = df.sort_values(by='ImageId_ClassId')\r\n",
      "        size = (256, 1600)\r\n",
      "        mask = np.zeros(size)\r\n",
      "        res = []\r\n",
      "        for row in tqdm(df.itertuples(), total=df.shape[0]):\r\n",
      "            pixels = row.EncodedPixels\r\n",
      "            if not isinstance(pixels, str):\r\n",
      "                pixels = ''\r\n",
      "\r\n",
      "            mask_cls = rle2mask(pixels, size[::-1])\r\n",
      "            mask[mask_cls > 0] = row.class_id\r\n",
      "\r\n",
      "            if row.ImageId_ClassId.endswith('_4'):\r\n",
      "                img_id = row.ImageId_ClassId.split('.')[0].strip()\r\n",
      "                cv2.imwrite(f'data/train_masks/{img_id}.png', mask)\r\n",
      "                mask = np.zeros(size)\r\n",
      "\r\n",
      "                res.append(\r\n",
      "                    {\r\n",
      "                        'fold': row.fold,\r\n",
      "                        'image': f'{img_id}.jpg',\r\n",
      "                        'mask': f'{img_id}.png'\r\n",
      "                    }\r\n",
      "                )\r\n",
      "\r\n",
      "        pd.DataFrame(res).to_csv('data/masks.csv', index=False)\r\n",
      "\r\n",
      "\r\n",
      "if __name__ == '__main__':\r\n",
      "    Masks().work()"
     ]
    }
   ],
   "source": [
    "cat catalyst_mlcomp/executors/masks.py"
   ]
  },
  {
   "cell_type": "markdown",
   "metadata": {},
   "source": [
    "train executor is a standard executor declared in MLComp library. That is a wrapper of Catalyst."
   ]
  },
  {
   "cell_type": "markdown",
   "metadata": {},
   "source": [
    "## Severstal DAG execution"
   ]
  },
  {
   "cell_type": "markdown",
   "metadata": {},
   "source": [
    "Start DAG"
   ]
  },
  {
   "cell_type": "code",
   "execution_count": 9,
   "metadata": {},
   "outputs": [],
   "source": [
    "! mkdir -p ~/mlcomp/data/severstal/input\n",
    "\n",
    "#! ln -s /data/ ~/mlcomp/data/severstal/input\n",
    "#! ln -s /kaggle/working/ ~/mlcomp/db"
   ]
  },
  {
   "cell_type": "code",
   "execution_count": 10,
   "metadata": {},
   "outputs": [],
   "source": [
    "! sleep 5\n",
    "! mlcomp dag catalyst_mlcomp/configs/mlcomp.yml \n",
    "#--params=executors/train/params/data_params/max_count:50 --params=executors/train/params/num_epochs:3"
   ]
  },
  {
   "cell_type": "markdown",
   "metadata": {},
   "source": [
    "Describe the DAG execution status"
   ]
  },
  {
   "cell_type": "code",
   "execution_count": 11,
   "metadata": {},
   "outputs": [],
   "source": []
  },
  {
   "cell_type": "code",
   "execution_count": 12,
   "metadata": {},
   "outputs": [
    {
     "data": {
      "text/html": [
       "<div>\n",
       "<style scoped>\n",
       "    .dataframe tbody tr th:only-of-type {\n",
       "        vertical-align: middle;\n",
       "    }\n",
       "\n",
       "    .dataframe tbody tr th {\n",
       "        vertical-align: top;\n",
       "    }\n",
       "\n",
       "    .dataframe thead th {\n",
       "        text-align: right;\n",
       "    }\n",
       "</style>\n",
       "<table border=\"1\" class=\"dataframe\">\n",
       "  <thead>\n",
       "    <tr style=\"text-align: right;\">\n",
       "      <th></th>\n",
       "      <th>id</th>\n",
       "      <th>name</th>\n",
       "    </tr>\n",
       "  </thead>\n",
       "  <tbody>\n",
       "    <tr>\n",
       "      <td>0</td>\n",
       "      <td>1</td>\n",
       "      <td>preprocess</td>\n",
       "    </tr>\n",
       "    <tr>\n",
       "      <td>1</td>\n",
       "      <td>2</td>\n",
       "      <td>masks</td>\n",
       "    </tr>\n",
       "    <tr>\n",
       "      <td>2</td>\n",
       "      <td>3</td>\n",
       "      <td>encoder=resnet34</td>\n",
       "    </tr>\n",
       "    <tr>\n",
       "      <td>3</td>\n",
       "      <td>4</td>\n",
       "      <td>encoder=se_resnext50_32x4d batch_size=16</td>\n",
       "    </tr>\n",
       "    <tr>\n",
       "      <td>4</td>\n",
       "      <td>5</td>\n",
       "      <td>model_params/model=MobileUnet model_params/input_size=256 model_params/pretrained=True model_params/num_classes=4</td>\n",
       "    </tr>\n",
       "  </tbody>\n",
       "</table>\n",
       "</div>"
      ],
      "text/plain": [
       "   id                                                                                                               name\n",
       "0  1   preprocess                                                                                                       \n",
       "1  2   masks                                                                                                            \n",
       "2  3   encoder=resnet34                                                                                                 \n",
       "3  4   encoder=se_resnext50_32x4d batch_size=16                                                                         \n",
       "4  5   model_params/model=MobileUnet model_params/input_size=256 model_params/pretrained=True model_params/num_classes=4"
      ]
     },
     "execution_count": 12,
     "metadata": {},
     "output_type": "execute_result"
    }
   ],
   "source": [
    "describe_task_names(dag=1)"
   ]
  },
  {
   "cell_type": "markdown",
   "metadata": {},
   "source": [
    "If you run this kernel, you will see an auto-refreshing describe panel below. (otherwise, you see only the last plot)"
   ]
  },
  {
   "cell_type": "code",
   "execution_count": null,
   "metadata": {},
   "outputs": [
    {
     "data": {
      "image/png": "[encoded data removed]",
      "text/plain": [
       "<Figure size 720x1080 with 4 Axes>"
      ]
     },
     "metadata": {},
     "output_type": "display_data"
    }
   ],
   "source": [
    "describe(dag=1, metrics=['loss', 'dice'], wait=True, task_with_metric_count=3, fig_size=(10, 15))"
   ]
  },
  {
   "cell_type": "markdown",
   "metadata": {},
   "source": [
    "#### Copy result models\n",
    "\n",
    "Catalyst has a special mechanism named tracing. You can combine a model and that weights in as a single file.\n",
    "\n",
    "We have done it, actually. ( we declared ```trace``` configuration for train executor).\n",
    "\n",
    "All we need to do now, is to copy the result files."
   ]
  },
  {
   "cell_type": "code",
   "execution_count": 14,
   "metadata": {},
   "outputs": [],
   "source": [
    "#! cp ~/mlcomp/tasks/3/trace.pth unet_resnet34.pth\n",
    "#! cp ~/mlcomp/tasks/4/trace.pth unet_se_resnext50_32x4d.pth\n",
    "#! cp ~/mlcomp/tasks/5/trace.pth unet_mobilenet2.pth"
   ]
  },
  {
   "cell_type": "markdown",
   "metadata": {},
   "source": [
    "### Conclusion\n",
    "\n",
    "We have seen a short demonstration of MLComp/Catalyst execution process.\n",
    "\n",
    "You can find inference here https://www.kaggle.com/lightforever/severstal-mlcomp-catalyst-infer-0-90672 "
   ]
  },
  {
   "cell_type": "code",
   "execution_count": null,
   "metadata": {},
   "outputs": [],
   "source": []
  }
 ],
 "metadata": {
  "kernelspec": {
   "display_name": "Python 3",
   "language": "python",
   "name": "python3"
  },
  "language_info": {
   "codemirror_mode": {
    "name": "ipython",
    "version": 3
   },
   "file_extension": ".py",
   "mimetype": "text/x-python",
   "name": "python",
   "nbconvert_exporter": "python",
   "pygments_lexer": "ipython3",
   "version": "3.7.4"
  }
 },
 "nbformat": 4,
 "nbformat_minor": 4
}
